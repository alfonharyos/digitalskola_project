{
  "nbformat": 4,
  "nbformat_minor": 0,
  "metadata": {
    "colab": {
      "provenance": []
    },
    "kernelspec": {
      "name": "python3",
      "display_name": "Python 3"
    },
    "language_info": {
      "name": "python"
    }
  },
  "cells": [
    {
      "cell_type": "code",
      "source": [
        "# install pyspark\n",
        "!pip install pyspark"
      ],
      "metadata": {
        "colab": {
          "base_uri": "https://localhost:8080/"
        },
        "id": "Wk7Y4Giry5N6",
        "outputId": "aa9e4f9e-5653-47f5-b254-9ed92723589f"
      },
      "execution_count": 1,
      "outputs": [
        {
          "output_type": "stream",
          "name": "stdout",
          "text": [
            "Looking in indexes: https://pypi.org/simple, https://us-python.pkg.dev/colab-wheels/public/simple/\n",
            "Requirement already satisfied: pyspark in /usr/local/lib/python3.8/dist-packages (3.3.2)\n",
            "Requirement already satisfied: py4j==0.10.9.5 in /usr/local/lib/python3.8/dist-packages (from pyspark) (0.10.9.5)\n"
          ]
        }
      ]
    },
    {
      "cell_type": "code",
      "source": [
        "# import library\n",
        "from pyspark.sql import SparkSession\n",
        "# from pyspark.sql import Row\n",
        "from pyspark.sql.functions import col"
      ],
      "metadata": {
        "id": "17i3oNbk0KL7"
      },
      "execution_count": 2,
      "outputs": []
    },
    {
      "cell_type": "code",
      "source": [
        "#Create a spark session\n",
        "spark = SparkSession.builder.appName(\"SparkSQL\").getOrCreate()"
      ],
      "metadata": {
        "id": "VIZ5jJe30Stl"
      },
      "execution_count": 3,
      "outputs": []
    },
    {
      "cell_type": "markdown",
      "source": [
        "Extract"
      ],
      "metadata": {
        "id": "LSbYmNySycWw"
      }
    },
    {
      "cell_type": "code",
      "source": [
        "# read csv\n",
        "df = spark.read.option(\"header\", \"true\").option(\"inferSchema\", \"true\")\\\n",
        "    .csv(\"/content/fhv_tripdata_2019-01.csv\")\n",
        "df.printSchema()"
      ],
      "metadata": {
        "colab": {
          "base_uri": "https://localhost:8080/"
        },
        "id": "wzGwY1VByCT8",
        "outputId": "701eb16a-8810-4f36-9a1e-9e79af41fdd9"
      },
      "execution_count": 4,
      "outputs": [
        {
          "output_type": "stream",
          "name": "stdout",
          "text": [
            "root\n",
            " |-- dispatching_base_num: string (nullable = true)\n",
            " |-- pickup_datetime: timestamp (nullable = true)\n",
            " |-- dropOff_datetime: timestamp (nullable = true)\n",
            " |-- PUlocationID: integer (nullable = true)\n",
            " |-- DOlocationID: integer (nullable = true)\n",
            " |-- SR_Flag: integer (nullable = true)\n",
            " |-- Affiliated_base_number: string (nullable = true)\n",
            "\n"
          ]
        }
      ]
    },
    {
      "cell_type": "markdown",
      "source": [
        "Transformation process"
      ],
      "metadata": {
        "id": "D1x22HhF1LGO"
      }
    },
    {
      "cell_type": "code",
      "source": [
        "# fungsi filter nan berdasarkan nama kolom\n",
        "def filter_nan (dataframe, col_name:list):\n",
        "    return dataframe.na.drop(subset=col_name)\n",
        "\n",
        "# fungsi filter tanggal\n",
        "def filter_date (dataframe, col_name, start_date, end_date):\n",
        "    return dataframe.filter((col(col_name)  >= start_date) \\\n",
        "                            & (col(col_name)  <= end_date))\n"
      ],
      "metadata": {
        "id": "jcJzaFux1e5a"
      },
      "execution_count": 5,
      "outputs": []
    },
    {
      "cell_type": "code",
      "source": [
        "# filter nan pada kolom 'PUlocationID' dan 'DOlocationID'\n",
        "df = filter_nan(df, ['PUlocationID','DOlocationID'])\n",
        "\n",
        "# filter tanggal\n",
        "df = filter_date(df, 'pickup_datetime', '2019-01-01', '2019-01-10')"
      ],
      "metadata": {
        "id": "Ho0iCxw85HDe"
      },
      "execution_count": 6,
      "outputs": []
    },
    {
      "cell_type": "code",
      "source": [
        "df.show()"
      ],
      "metadata": {
        "colab": {
          "base_uri": "https://localhost:8080/"
        },
        "id": "boWalU50BlTv",
        "outputId": "67778d11-81ef-46da-8a70-73655f63cbf4"
      },
      "execution_count": 7,
      "outputs": [
        {
          "output_type": "stream",
          "name": "stdout",
          "text": [
            "+--------------------+-------------------+-------------------+------------+------------+-------+----------------------+\n",
            "|dispatching_base_num|    pickup_datetime|   dropOff_datetime|PUlocationID|DOlocationID|SR_Flag|Affiliated_base_number|\n",
            "+--------------------+-------------------+-------------------+------------+------------+-------+----------------------+\n",
            "|              B00254|2019-01-01 00:33:03|2019-01-01 01:37:24|         140|          52|   null|                B02356|\n",
            "|              B00254|2019-01-01 00:03:00|2019-01-01 00:34:25|         141|         237|   null|                B00254|\n",
            "|              B00254|2019-01-01 00:45:48|2019-01-01 01:26:01|         237|         236|   null|                B00254|\n",
            "|              B00254|2019-01-01 00:37:39|2019-01-01 01:44:59|         162|          85|   null|                B00254|\n",
            "|              B00254|2019-01-01 00:35:06|2019-01-01 01:30:21|         237|         246|   null|                B00254|\n",
            "|              B00254|2019-01-01 00:55:23|2019-01-01 01:48:27|         145|         224|   null|                B02882|\n",
            "|              B00254|2019-01-01 00:49:23|2019-01-01 01:38:38|         261|          14|   null|                B02994|\n",
            "|              B00254|2019-01-01 00:11:10|2019-01-01 00:44:31|         162|         233|   null|                B00254|\n",
            "|              B00254|2019-01-01 00:00:06|2019-01-01 00:32:21|          13|          87|   null|                B00254|\n",
            "|              B00254|2019-01-01 00:36:32|2019-01-01 01:35:54|         249|         236|   null|                B00254|\n",
            "|              B00254|2019-01-01 00:15:15|2019-01-01 00:54:49|         236|         229|   null|                B00254|\n",
            "|              B00445|2019-01-01 00:32:02|2019-01-01 00:56:51|         145|          16|   null|                B00445|\n",
            "|              B00445|2019-01-01 00:25:50|2019-01-01 00:33:58|         171|          15|   null|                B00445|\n",
            "|              B00445|2019-01-01 00:45:47|2019-01-01 01:03:04|         252|          82|   null|                B00445|\n",
            "|              B00445|2019-01-01 00:36:25|2019-01-01 01:00:17|         265|          92|   null|                B00445|\n",
            "|              B00445|2019-01-01 00:53:37|2019-01-01 01:37:09|         229|          15|   null|                B00445|\n",
            "|              B00445|2019-01-01 00:36:15|2019-01-01 00:48:39|         171|          16|   null|                B00445|\n",
            "|              B00445|2019-01-01 00:28:34|2019-01-01 00:39:40|          16|         252|   null|                B00445|\n",
            "|              B00445|2019-01-01 00:12:32|2019-01-01 00:12:36|         252|          70|   null|                B00445|\n",
            "|              B00445|2019-01-01 00:45:07|2019-01-01 01:03:57|         265|         252|   null|                B00445|\n",
            "+--------------------+-------------------+-------------------+------------+------------+-------+----------------------+\n",
            "only showing top 20 rows\n",
            "\n"
          ]
        }
      ]
    },
    {
      "cell_type": "code",
      "execution_count": 8,
      "metadata": {
        "colab": {
          "base_uri": "https://localhost:8080/",
          "height": 661
        },
        "id": "YcpTJK36weeU",
        "outputId": "7c29f7e4-c8dc-4d4e-b980-a6317364af25"
      },
      "outputs": [
        {
          "output_type": "execute_result",
          "data": {
            "text/plain": [
              "        dispatching_base_num     pickup_datetime    dropOff_datetime  \\\n",
              "0                     B00254 2019-01-01 00:33:03 2019-01-01 01:37:24   \n",
              "1                     B00254 2019-01-01 00:03:00 2019-01-01 00:34:25   \n",
              "2                     B00254 2019-01-01 00:45:48 2019-01-01 01:26:01   \n",
              "3                     B00254 2019-01-01 00:37:39 2019-01-01 01:44:59   \n",
              "4                     B00254 2019-01-01 00:35:06 2019-01-01 01:30:21   \n",
              "...                      ...                 ...                 ...   \n",
              "5338271               B02531 2019-01-10 00:00:00 2019-01-10 01:00:00   \n",
              "5338272               B02765 2019-01-10 00:00:00 2019-01-10 00:08:17   \n",
              "5338273               B02765 2019-01-10 00:00:00 2019-01-10 01:26:29   \n",
              "5338274               B02800 2019-01-10 00:00:00 2019-01-10 00:10:04   \n",
              "5338275               B02872 2019-01-10 00:00:00 2019-01-10 00:12:12   \n",
              "\n",
              "         PUlocationID  DOlocationID  SR_Flag Affiliated_base_number  \n",
              "0                 140            52      NaN                 B02356  \n",
              "1                 141           237      NaN                 B00254  \n",
              "2                 237           236      NaN                 B00254  \n",
              "3                 162            85      NaN                 B00254  \n",
              "4                 237           246      NaN                 B00254  \n",
              "...               ...           ...      ...                    ...  \n",
              "5338271           185           197      NaN                 B02531  \n",
              "5338272           145           112      NaN                 B02765  \n",
              "5338273           148           265      NaN                 B02765  \n",
              "5338274            90            79      NaN                 B02870  \n",
              "5338275           256            17      NaN                 B02872  \n",
              "\n",
              "[5338276 rows x 7 columns]"
            ],
            "text/html": [
              "\n",
              "  <div id=\"df-8012633b-094c-4da6-9201-84ec9705f512\">\n",
              "    <div class=\"colab-df-container\">\n",
              "      <div>\n",
              "<style scoped>\n",
              "    .dataframe tbody tr th:only-of-type {\n",
              "        vertical-align: middle;\n",
              "    }\n",
              "\n",
              "    .dataframe tbody tr th {\n",
              "        vertical-align: top;\n",
              "    }\n",
              "\n",
              "    .dataframe thead th {\n",
              "        text-align: right;\n",
              "    }\n",
              "</style>\n",
              "<table border=\"1\" class=\"dataframe\">\n",
              "  <thead>\n",
              "    <tr style=\"text-align: right;\">\n",
              "      <th></th>\n",
              "      <th>dispatching_base_num</th>\n",
              "      <th>pickup_datetime</th>\n",
              "      <th>dropOff_datetime</th>\n",
              "      <th>PUlocationID</th>\n",
              "      <th>DOlocationID</th>\n",
              "      <th>SR_Flag</th>\n",
              "      <th>Affiliated_base_number</th>\n",
              "    </tr>\n",
              "  </thead>\n",
              "  <tbody>\n",
              "    <tr>\n",
              "      <th>0</th>\n",
              "      <td>B00254</td>\n",
              "      <td>2019-01-01 00:33:03</td>\n",
              "      <td>2019-01-01 01:37:24</td>\n",
              "      <td>140</td>\n",
              "      <td>52</td>\n",
              "      <td>NaN</td>\n",
              "      <td>B02356</td>\n",
              "    </tr>\n",
              "    <tr>\n",
              "      <th>1</th>\n",
              "      <td>B00254</td>\n",
              "      <td>2019-01-01 00:03:00</td>\n",
              "      <td>2019-01-01 00:34:25</td>\n",
              "      <td>141</td>\n",
              "      <td>237</td>\n",
              "      <td>NaN</td>\n",
              "      <td>B00254</td>\n",
              "    </tr>\n",
              "    <tr>\n",
              "      <th>2</th>\n",
              "      <td>B00254</td>\n",
              "      <td>2019-01-01 00:45:48</td>\n",
              "      <td>2019-01-01 01:26:01</td>\n",
              "      <td>237</td>\n",
              "      <td>236</td>\n",
              "      <td>NaN</td>\n",
              "      <td>B00254</td>\n",
              "    </tr>\n",
              "    <tr>\n",
              "      <th>3</th>\n",
              "      <td>B00254</td>\n",
              "      <td>2019-01-01 00:37:39</td>\n",
              "      <td>2019-01-01 01:44:59</td>\n",
              "      <td>162</td>\n",
              "      <td>85</td>\n",
              "      <td>NaN</td>\n",
              "      <td>B00254</td>\n",
              "    </tr>\n",
              "    <tr>\n",
              "      <th>4</th>\n",
              "      <td>B00254</td>\n",
              "      <td>2019-01-01 00:35:06</td>\n",
              "      <td>2019-01-01 01:30:21</td>\n",
              "      <td>237</td>\n",
              "      <td>246</td>\n",
              "      <td>NaN</td>\n",
              "      <td>B00254</td>\n",
              "    </tr>\n",
              "    <tr>\n",
              "      <th>...</th>\n",
              "      <td>...</td>\n",
              "      <td>...</td>\n",
              "      <td>...</td>\n",
              "      <td>...</td>\n",
              "      <td>...</td>\n",
              "      <td>...</td>\n",
              "      <td>...</td>\n",
              "    </tr>\n",
              "    <tr>\n",
              "      <th>5338271</th>\n",
              "      <td>B02531</td>\n",
              "      <td>2019-01-10 00:00:00</td>\n",
              "      <td>2019-01-10 01:00:00</td>\n",
              "      <td>185</td>\n",
              "      <td>197</td>\n",
              "      <td>NaN</td>\n",
              "      <td>B02531</td>\n",
              "    </tr>\n",
              "    <tr>\n",
              "      <th>5338272</th>\n",
              "      <td>B02765</td>\n",
              "      <td>2019-01-10 00:00:00</td>\n",
              "      <td>2019-01-10 00:08:17</td>\n",
              "      <td>145</td>\n",
              "      <td>112</td>\n",
              "      <td>NaN</td>\n",
              "      <td>B02765</td>\n",
              "    </tr>\n",
              "    <tr>\n",
              "      <th>5338273</th>\n",
              "      <td>B02765</td>\n",
              "      <td>2019-01-10 00:00:00</td>\n",
              "      <td>2019-01-10 01:26:29</td>\n",
              "      <td>148</td>\n",
              "      <td>265</td>\n",
              "      <td>NaN</td>\n",
              "      <td>B02765</td>\n",
              "    </tr>\n",
              "    <tr>\n",
              "      <th>5338274</th>\n",
              "      <td>B02800</td>\n",
              "      <td>2019-01-10 00:00:00</td>\n",
              "      <td>2019-01-10 00:10:04</td>\n",
              "      <td>90</td>\n",
              "      <td>79</td>\n",
              "      <td>NaN</td>\n",
              "      <td>B02870</td>\n",
              "    </tr>\n",
              "    <tr>\n",
              "      <th>5338275</th>\n",
              "      <td>B02872</td>\n",
              "      <td>2019-01-10 00:00:00</td>\n",
              "      <td>2019-01-10 00:12:12</td>\n",
              "      <td>256</td>\n",
              "      <td>17</td>\n",
              "      <td>NaN</td>\n",
              "      <td>B02872</td>\n",
              "    </tr>\n",
              "  </tbody>\n",
              "</table>\n",
              "<p>5338276 rows × 7 columns</p>\n",
              "</div>\n",
              "      <button class=\"colab-df-convert\" onclick=\"convertToInteractive('df-8012633b-094c-4da6-9201-84ec9705f512')\"\n",
              "              title=\"Convert this dataframe to an interactive table.\"\n",
              "              style=\"display:none;\">\n",
              "        \n",
              "  <svg xmlns=\"http://www.w3.org/2000/svg\" height=\"24px\"viewBox=\"0 0 24 24\"\n",
              "       width=\"24px\">\n",
              "    <path d=\"M0 0h24v24H0V0z\" fill=\"none\"/>\n",
              "    <path d=\"M18.56 5.44l.94 2.06.94-2.06 2.06-.94-2.06-.94-.94-2.06-.94 2.06-2.06.94zm-11 1L8.5 8.5l.94-2.06 2.06-.94-2.06-.94L8.5 2.5l-.94 2.06-2.06.94zm10 10l.94 2.06.94-2.06 2.06-.94-2.06-.94-.94-2.06-.94 2.06-2.06.94z\"/><path d=\"M17.41 7.96l-1.37-1.37c-.4-.4-.92-.59-1.43-.59-.52 0-1.04.2-1.43.59L10.3 9.45l-7.72 7.72c-.78.78-.78 2.05 0 2.83L4 21.41c.39.39.9.59 1.41.59.51 0 1.02-.2 1.41-.59l7.78-7.78 2.81-2.81c.8-.78.8-2.07 0-2.86zM5.41 20L4 18.59l7.72-7.72 1.47 1.35L5.41 20z\"/>\n",
              "  </svg>\n",
              "      </button>\n",
              "      \n",
              "  <style>\n",
              "    .colab-df-container {\n",
              "      display:flex;\n",
              "      flex-wrap:wrap;\n",
              "      gap: 12px;\n",
              "    }\n",
              "\n",
              "    .colab-df-convert {\n",
              "      background-color: #E8F0FE;\n",
              "      border: none;\n",
              "      border-radius: 50%;\n",
              "      cursor: pointer;\n",
              "      display: none;\n",
              "      fill: #1967D2;\n",
              "      height: 32px;\n",
              "      padding: 0 0 0 0;\n",
              "      width: 32px;\n",
              "    }\n",
              "\n",
              "    .colab-df-convert:hover {\n",
              "      background-color: #E2EBFA;\n",
              "      box-shadow: 0px 1px 2px rgba(60, 64, 67, 0.3), 0px 1px 3px 1px rgba(60, 64, 67, 0.15);\n",
              "      fill: #174EA6;\n",
              "    }\n",
              "\n",
              "    [theme=dark] .colab-df-convert {\n",
              "      background-color: #3B4455;\n",
              "      fill: #D2E3FC;\n",
              "    }\n",
              "\n",
              "    [theme=dark] .colab-df-convert:hover {\n",
              "      background-color: #434B5C;\n",
              "      box-shadow: 0px 1px 3px 1px rgba(0, 0, 0, 0.15);\n",
              "      filter: drop-shadow(0px 1px 2px rgba(0, 0, 0, 0.3));\n",
              "      fill: #FFFFFF;\n",
              "    }\n",
              "  </style>\n",
              "\n",
              "      <script>\n",
              "        const buttonEl =\n",
              "          document.querySelector('#df-8012633b-094c-4da6-9201-84ec9705f512 button.colab-df-convert');\n",
              "        buttonEl.style.display =\n",
              "          google.colab.kernel.accessAllowed ? 'block' : 'none';\n",
              "\n",
              "        async function convertToInteractive(key) {\n",
              "          const element = document.querySelector('#df-8012633b-094c-4da6-9201-84ec9705f512');\n",
              "          const dataTable =\n",
              "            await google.colab.kernel.invokeFunction('convertToInteractive',\n",
              "                                                     [key], {});\n",
              "          if (!dataTable) return;\n",
              "\n",
              "          const docLinkHtml = 'Like what you see? Visit the ' +\n",
              "            '<a target=\"_blank\" href=https://colab.research.google.com/notebooks/data_table.ipynb>data table notebook</a>'\n",
              "            + ' to learn more about interactive tables.';\n",
              "          element.innerHTML = '';\n",
              "          dataTable['output_type'] = 'display_data';\n",
              "          await google.colab.output.renderOutput(dataTable, element);\n",
              "          const docLink = document.createElement('div');\n",
              "          docLink.innerHTML = docLinkHtml;\n",
              "          element.appendChild(docLink);\n",
              "        }\n",
              "      </script>\n",
              "    </div>\n",
              "  </div>\n",
              "  "
            ]
          },
          "metadata": {},
          "execution_count": 8
        }
      ],
      "source": [
        "df.toPandas()"
      ]
    },
    {
      "cell_type": "markdown",
      "source": [
        "LOAD"
      ],
      "metadata": {
        "id": "1Anzsgw0xm9X"
      }
    },
    {
      "cell_type": "code",
      "source": [
        "# write data to parquet\n",
        "df.write.mode(\"overwrite\").parquet(\"clean_data_parquet.parquet\")\n",
        "\n",
        "# write data to json\n",
        "df.write.mode(\"overwrite\").json(\"clean_data_json.json\")"
      ],
      "metadata": {
        "id": "zFC_DncMxqY0"
      },
      "execution_count": 11,
      "outputs": []
    },
    {
      "cell_type": "markdown",
      "source": [
        "Read"
      ],
      "metadata": {
        "id": "pPwcV7raCY3b"
      }
    },
    {
      "cell_type": "code",
      "source": [
        "spark.read.parquet(\"clean_data_parquet.parquet\").show()"
      ],
      "metadata": {
        "colab": {
          "base_uri": "https://localhost:8080/"
        },
        "id": "PPgsGAPNCCEO",
        "outputId": "b085dfa2-6c36-4c3d-cfd4-5da40ae701ba"
      },
      "execution_count": 12,
      "outputs": [
        {
          "output_type": "stream",
          "name": "stdout",
          "text": [
            "+--------------------+-------------------+-------------------+------------+------------+-------+----------------------+\n",
            "|dispatching_base_num|    pickup_datetime|   dropOff_datetime|PUlocationID|DOlocationID|SR_Flag|Affiliated_base_number|\n",
            "+--------------------+-------------------+-------------------+------------+------------+-------+----------------------+\n",
            "|              B02869|2019-01-04 12:36:08|2019-01-04 12:52:16|         173|          82|   null|                B02869|\n",
            "|              B02869|2019-01-04 12:54:51|2019-01-04 13:01:08|         164|          48|   null|                B02869|\n",
            "|              B02869|2019-01-04 12:29:34|2019-01-04 12:47:08|         234|         237|   null|                B02869|\n",
            "|              B02869|2019-01-04 12:57:00|2019-01-04 13:12:23|         237|         100|   null|                B02869|\n",
            "|              B02869|2019-01-04 12:19:43|2019-01-04 12:44:38|         180|         145|   null|                B02869|\n",
            "|              B02869|2019-01-04 12:00:19|2019-01-04 12:23:01|         255|         231|   null|                B02869|\n",
            "|              B02869|2019-01-04 12:37:27|2019-01-04 13:05:22|         231|         144|   null|                B02869|\n",
            "|              B02869|2019-01-04 12:43:00|2019-01-04 12:56:06|          87|           4|   null|                B02869|\n",
            "|              B02869|2019-01-04 12:27:35|2019-01-04 12:49:15|          68|          87|   null|                B02869|\n",
            "|              B02869|2019-01-04 12:32:36|2019-01-04 12:46:19|         186|         211|   null|                B02869|\n",
            "|              B02869|2019-01-04 12:06:31|2019-01-04 12:29:00|         246|          79|   null|                B02869|\n",
            "|              B02869|2019-01-04 12:34:50|2019-01-04 12:49:54|           4|         162|   null|                B02869|\n",
            "|              B02869|2019-01-04 12:23:32|2019-01-04 12:50:42|         148|           1|   null|                B02869|\n",
            "|              B02869|2019-01-04 12:31:30|2019-01-04 12:41:28|         211|         231|   null|                B02869|\n",
            "|              B02869|2019-01-04 12:45:18|2019-01-04 13:03:22|         231|         170|   null|                B02869|\n",
            "|              B02869|2019-01-04 12:43:32|2019-01-04 12:52:38|         211|          79|   null|                B02869|\n",
            "|              B02869|2019-01-04 12:08:01|2019-01-04 12:28:43|         144|         195|   null|                B02869|\n",
            "|              B02869|2019-01-04 12:37:12|2019-01-04 12:46:25|          82|          82|   null|                B02869|\n",
            "|              B02869|2019-01-04 12:06:03|2019-01-04 12:15:29|          16|          64|      2|                B02869|\n",
            "|              B02869|2019-01-04 12:56:47|2019-01-04 13:15:56|         164|         231|   null|                B02869|\n",
            "+--------------------+-------------------+-------------------+------------+------------+-------+----------------------+\n",
            "only showing top 20 rows\n",
            "\n"
          ]
        }
      ]
    }
  ]
}